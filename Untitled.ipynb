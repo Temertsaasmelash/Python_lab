{
 "cells": [
  {
   "cell_type": "code",
   "execution_count": 2,
   "id": "c0a8307c-6069-4820-90e9-26bb89e5c19b",
   "metadata": {},
   "outputs": [
    {
     "name": "stdout",
     "output_type": "stream",
     "text": [
      "zophie the cat\n"
     ]
    }
   ],
   "source": [
    "name = 'zophie a cat'\n",
    "newName= name[0:7] + 'the' +name[8:12]\n",
    "print(newName)"
   ]
  },
  {
   "cell_type": "code",
   "execution_count": null,
   "id": "6e531a82-c789-4173-bcce-4b960a2c6583",
   "metadata": {},
   "outputs": [],
   "source": []
  },
  {
   "cell_type": "code",
   "execution_count": null,
   "id": "13c9f1e7-2e15-440b-8df1-ac71f8c1cc08",
   "metadata": {},
   "outputs": [],
   "source": []
  },
  {
   "cell_type": "code",
   "execution_count": 3,
   "id": "525cd1a8-1740-4751-afd8-8ceb5bab44e3",
   "metadata": {},
   "outputs": [
    {
     "name": "stdout",
     "output_type": "stream",
     "text": [
      "['lion', 'tiger', 'parrot', 'monkey', 'rabbit', 'snake']\n"
     ]
    }
   ],
   "source": [
    "pets = [\"dog\", \"cat\", \"parrot\", \"monkey\",\"rabbit\"]\n",
    "pets[0]=\"lion\"\n",
    "pets[1]=\"tiger\"\n",
    "pets.append(\"snake\")\n",
    "print(pets)"
   ]
  },
  {
   "cell_type": "code",
   "execution_count": 7,
   "id": "88eacc64-b71f-4b7b-84ca-78a0d63ed020",
   "metadata": {},
   "outputs": [
    {
     "name": "stdout",
     "output_type": "stream",
     "text": [
      "cerry  is nicer than the other fruit\n"
     ]
    }
   ],
   "source": [
    "fruit = [\"apple\", \"banana\", \"cerry\", \"orange\", \"kiwi\", \"melon\", \"mango\"]\n",
    "if fruit[2] == \"mango\":\n",
    "   print(f\"{fruit[-5]} is nicer than the other fruit\")\n",
    "else:\n",
    "    print(f\"{fruit[-5]}  is nicer than the other fruit\")"
   ]
  },
  {
   "cell_type": "code",
   "execution_count": 8,
   "id": "44a0067e-4878-4f04-b1e1-fb444d4ea551",
   "metadata": {},
   "outputs": [
    {
     "name": "stdout",
     "output_type": "stream",
     "text": [
      "you are a minor\n"
     ]
    }
   ],
   "source": [
    "age = 15\n",
    "print('you are an adult') if age >=18 else print('you are a minor')"
   ]
  },
  {
   "cell_type": "code",
   "execution_count": 9,
   "id": "c79c7463-c5c0-466e-8fcd-9df65fe16073",
   "metadata": {},
   "outputs": [
    {
     "name": "stdout",
     "output_type": "stream",
     "text": [
      "Tec\n"
     ]
    }
   ],
   "source": [
    "str = \"Technology\"\n",
    "print(str[:3])"
   ]
  },
  {
   "cell_type": "code",
   "execution_count": 11,
   "id": "a901e0d2-eeba-4b83-bd1d-5bc5275d3801",
   "metadata": {},
   "outputs": [
    {
     "name": "stdout",
     "output_type": "stream",
     "text": [
      "I am 29 years old.\n"
     ]
    }
   ],
   "source": [
    "print('I am ' + '29' + ' years old.')\n"
   ]
  },
  {
   "cell_type": "code",
   "execution_count": null,
   "id": "01543222-cc20-4a87-8953-92616dfa8ffe",
   "metadata": {},
   "outputs": [],
   "source": []
  }
 ],
 "metadata": {
  "kernelspec": {
   "display_name": "Python 3 (ipykernel)",
   "language": "python",
   "name": "python3"
  },
  "language_info": {
   "codemirror_mode": {
    "name": "ipython",
    "version": 3
   },
   "file_extension": ".py",
   "mimetype": "text/x-python",
   "name": "python",
   "nbconvert_exporter": "python",
   "pygments_lexer": "ipython3",
   "version": "3.12.2"
  }
 },
 "nbformat": 4,
 "nbformat_minor": 5
}
